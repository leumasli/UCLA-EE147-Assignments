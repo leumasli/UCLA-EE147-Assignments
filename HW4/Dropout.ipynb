{
 "cells": [
  {
   "cell_type": "markdown",
   "metadata": {},
   "source": [
    "# Dropout\n",
    "\n",
    "In this notebook, you will implement dropout.  Then we will ask you to train a network with batchnorm and dropout, and acheive over 55% accuracy on CIFAR-10.\n",
    "\n",
    "CS231n has built a solid API for building these modular frameworks and training them, and we will use their very well implemented framework as opposed to \"reinventing the wheel.\"  This includes using their Solver, various utility functions, and their layer structure.  This also includes nndl.fc_net, nndl.layers, and nndl.layer_utils.  As in prior assignments, we thank Serena Yeung & Justin Johnson for permission to use code written for the CS 231n class (cs231n.stanford.edu).  "
   ]
  },
  {
   "cell_type": "code",
   "execution_count": 1,
   "metadata": {
    "collapsed": true
   },
   "outputs": [],
   "source": [
    "## Import and setups\n",
    "\n",
    "import time\n",
    "import numpy as np\n",
    "import matplotlib.pyplot as plt\n",
    "from nndl.fc_net import *\n",
    "from nndl.layers import *\n",
    "from cs231n.data_utils import get_CIFAR10_data\n",
    "from cs231n.gradient_check import eval_numerical_gradient, eval_numerical_gradient_array\n",
    "from cs231n.solver import Solver\n",
    "\n",
    "%matplotlib inline\n",
    "plt.rcParams['figure.figsize'] = (10.0, 8.0) # set default size of plots\n",
    "plt.rcParams['image.interpolation'] = 'nearest'\n",
    "plt.rcParams['image.cmap'] = 'gray'\n",
    "\n",
    "# for auto-reloading external modules\n",
    "# see http://stackoverflow.com/questions/1907993/autoreload-of-modules-in-ipython\n",
    "%load_ext autoreload\n",
    "%autoreload 2\n",
    "\n",
    "def rel_error(x, y):\n",
    "  \"\"\" returns relative error \"\"\"\n",
    "  return np.max(np.abs(x - y) / (np.maximum(1e-8, np.abs(x) + np.abs(y))))"
   ]
  },
  {
   "cell_type": "code",
   "execution_count": 3,
   "metadata": {},
   "outputs": [
    {
     "name": "stdout",
     "output_type": "stream",
     "text": [
      "X_train: (49000, 3, 32, 32) \n",
      "y_train: (49000,) \n",
      "X_val: (1000, 3, 32, 32) \n",
      "y_val: (1000,) \n",
      "X_test: (1000, 3, 32, 32) \n",
      "y_test: (1000,) \n"
     ]
    }
   ],
   "source": [
    "# Load the (preprocessed) CIFAR10 data.\n",
    "\n",
    "data = get_CIFAR10_data()\n",
    "for k in data.keys():\n",
    "  print('{}: {} '.format(k, data[k].shape))"
   ]
  },
  {
   "cell_type": "markdown",
   "metadata": {},
   "source": [
    "## Dropout forward pass\n",
    "\n",
    "Implement the training and test time dropout forward pass, `dropout_forward`, in `nndl/layers.py`. After that, test your implementation by running the following cell."
   ]
  },
  {
   "cell_type": "code",
   "execution_count": 7,
   "metadata": {},
   "outputs": [
    {
     "name": "stdout",
     "output_type": "stream",
     "text": [
      "Running tests with p =  0.3\n",
      "Mean of input:  10.002986221180933\n",
      "Mean of train-time output:  3.005415487129763\n",
      "Mean of test-time output:  10.002986221180933\n",
      "Fraction of train-time output set to zero:  0.699532\n",
      "Fraction of test-time output set to zero:  0.0\n",
      "Running tests with p =  0.6\n",
      "Mean of input:  10.002986221180933\n",
      "Mean of train-time output:  6.008796339986345\n",
      "Mean of test-time output:  10.002986221180933\n",
      "Fraction of train-time output set to zero:  0.399216\n",
      "Fraction of test-time output set to zero:  0.0\n",
      "Running tests with p =  0.75\n",
      "Mean of input:  10.002986221180933\n",
      "Mean of train-time output:  7.503144380747592\n",
      "Mean of test-time output:  10.002986221180933\n",
      "Fraction of train-time output set to zero:  0.249896\n",
      "Fraction of test-time output set to zero:  0.0\n"
     ]
    }
   ],
   "source": [
    "x = np.random.randn(500, 500) + 10\n",
    "\n",
    "for p in [0.3, 0.6, 0.75]:\n",
    "  out, _ = dropout_forward(x, {'mode': 'train', 'p': p})\n",
    "  out_test, _ = dropout_forward(x, {'mode': 'test', 'p': p})\n",
    "\n",
    "  print('Running tests with p = ', p)\n",
    "  print('Mean of input: ', x.mean())\n",
    "  print('Mean of train-time output: ', out.mean())\n",
    "  print('Mean of test-time output: ', out_test.mean())\n",
    "  print('Fraction of train-time output set to zero: ', (out == 0).mean())\n",
    "  print('Fraction of test-time output set to zero: ', (out_test == 0).mean())"
   ]
  },
  {
   "cell_type": "markdown",
   "metadata": {},
   "source": [
    "## Dropout backward pass\n",
    "\n",
    "Implement the backward pass, `dropout_backward`, in `nndl/layers.py`.  After that, test your gradients by running the following cell:"
   ]
  },
  {
   "cell_type": "code",
   "execution_count": 9,
   "metadata": {},
   "outputs": [
    {
     "name": "stdout",
     "output_type": "stream",
     "text": [
      "dx relative error:  1.892896802022597e-11\n"
     ]
    }
   ],
   "source": [
    "x = np.random.randn(10, 10) + 10\n",
    "dout = np.random.randn(*x.shape)\n",
    "\n",
    "dropout_param = {'mode': 'train', 'p': 0.8, 'seed': 123}\n",
    "out, cache = dropout_forward(x, dropout_param)\n",
    "dx = dropout_backward(dout, cache)\n",
    "dx_num = eval_numerical_gradient_array(lambda xx: dropout_forward(xx, dropout_param)[0], x, dout)\n",
    "\n",
    "print('dx relative error: ', rel_error(dx, dx_num))"
   ]
  },
  {
   "cell_type": "markdown",
   "metadata": {},
   "source": [
    "## Implement a fully connected neural network with dropout layers\n",
    "\n",
    "Modify the `FullyConnectedNet()` class in `nndl/fc_net.py` to incorporate dropout.  A dropout layer should be incorporated after every ReLU layer.  Concretely, there shouldn't be a dropout at the output layer since there is no ReLU at the output layer. You will need to modify the class in the following areas:\n",
    "\n",
    "(1) In the forward pass, you will need to incorporate a dropout layer after every relu layer.\n",
    "\n",
    "(2) In the backward pass, you will need to incorporate a dropout backward pass layer.\n",
    "\n",
    "Check your implementation by running the following code.  Our W1 gradient relative error is on the order of 1e-6 (the largest of all the relative errors)."
   ]
  },
  {
   "cell_type": "code",
   "execution_count": 11,
   "metadata": {},
   "outputs": [
    {
     "name": "stdout",
     "output_type": "stream",
     "text": [
      "Running check with dropout =  0\n",
      "Initial loss:  2.29793719686844\n",
      "W1 relative error: 1.703761794211387e-06\n",
      "W2 relative error: 1.3265304043879917e-07\n",
      "W3 relative error: 3.177322902263689e-08\n",
      "b1 relative error: 1.669933296815822e-07\n",
      "b2 relative error: 6.926409189969449e-09\n",
      "b3 relative error: 5.1256679076261725e-09\n",
      "\n",
      "\n",
      "Running check with dropout =  0.25\n",
      "Initial loss:  2.302358406504942\n",
      "W1 relative error: 6.45406555969519e-06\n",
      "W2 relative error: 7.889528650585799e-09\n",
      "W3 relative error: 7.803174937525101e-07\n",
      "b1 relative error: 2.7006686269609063e-08\n",
      "b2 relative error: 5.351439319613375e-09\n",
      "b3 relative error: 5.147124458223715e-09\n",
      "\n",
      "\n",
      "Running check with dropout =  0.5\n",
      "Initial loss:  2.302072771982645\n",
      "W1 relative error: 1.023710115519596e-06\n",
      "W2 relative error: 4.649918900959242e-08\n",
      "W3 relative error: 2.759393949850575e-07\n",
      "b1 relative error: 1.450214004443368e-08\n",
      "b2 relative error: 9.296150008067914e-09\n",
      "b3 relative error: 5.124944999032775e-09\n",
      "\n",
      "\n"
     ]
    }
   ],
   "source": [
    "N, D, H1, H2, C = 2, 15, 20, 30, 10\n",
    "X = np.random.randn(N, D)\n",
    "y = np.random.randint(C, size=(N,))\n",
    "\n",
    "for dropout in [0, 0.25, 0.5]:\n",
    "  print('Running check with dropout = ', dropout)\n",
    "  model = FullyConnectedNet([H1, H2], input_dim=D, num_classes=C,\n",
    "                            weight_scale=5e-2, dtype=np.float64,\n",
    "                            dropout=dropout, seed=123)\n",
    "\n",
    "  loss, grads = model.loss(X, y)\n",
    "  print('Initial loss: ', loss)\n",
    "\n",
    "  for name in sorted(grads):\n",
    "    f = lambda _: model.loss(X, y)[0]\n",
    "    grad_num = eval_numerical_gradient(f, model.params[name], verbose=False, h=1e-5)\n",
    "    print('{} relative error: {}'.format(name, rel_error(grad_num, grads[name])))\n",
    "  print('\\n')"
   ]
  },
  {
   "cell_type": "markdown",
   "metadata": {},
   "source": [
    "## Dropout as a regularizer\n",
    "\n",
    "In class, we claimed that dropout acts as a regularizer by effectively bagging.  To check this, we will train two small networks, one with dropout and one without dropout.  "
   ]
  },
  {
   "cell_type": "code",
   "execution_count": 13,
   "metadata": {},
   "outputs": [
    {
     "name": "stdout",
     "output_type": "stream",
     "text": [
      "(Iteration 1 / 125) loss: 2.300804\n",
      "(Epoch 0 / 25) train acc: 0.220000; val_acc: 0.168000\n",
      "(Epoch 1 / 25) train acc: 0.188000; val_acc: 0.147000\n",
      "(Epoch 2 / 25) train acc: 0.266000; val_acc: 0.200000\n",
      "(Epoch 3 / 25) train acc: 0.338000; val_acc: 0.262000\n",
      "(Epoch 4 / 25) train acc: 0.378000; val_acc: 0.278000\n",
      "(Epoch 5 / 25) train acc: 0.428000; val_acc: 0.297000\n",
      "(Epoch 6 / 25) train acc: 0.468000; val_acc: 0.323000\n",
      "(Epoch 7 / 25) train acc: 0.494000; val_acc: 0.287000\n",
      "(Epoch 8 / 25) train acc: 0.566000; val_acc: 0.328000\n",
      "(Epoch 9 / 25) train acc: 0.572000; val_acc: 0.322000\n",
      "(Epoch 10 / 25) train acc: 0.622000; val_acc: 0.324000\n",
      "(Epoch 11 / 25) train acc: 0.670000; val_acc: 0.279000\n",
      "(Epoch 12 / 25) train acc: 0.710000; val_acc: 0.338000\n",
      "(Epoch 13 / 25) train acc: 0.746000; val_acc: 0.319000\n",
      "(Epoch 14 / 25) train acc: 0.792000; val_acc: 0.307000\n",
      "(Epoch 15 / 25) train acc: 0.834000; val_acc: 0.297000\n",
      "(Epoch 16 / 25) train acc: 0.876000; val_acc: 0.327000\n",
      "(Epoch 17 / 25) train acc: 0.886000; val_acc: 0.320000\n",
      "(Epoch 18 / 25) train acc: 0.918000; val_acc: 0.314000\n",
      "(Epoch 19 / 25) train acc: 0.922000; val_acc: 0.290000\n",
      "(Epoch 20 / 25) train acc: 0.944000; val_acc: 0.306000\n",
      "(Iteration 101 / 125) loss: 0.156105\n",
      "(Epoch 21 / 25) train acc: 0.968000; val_acc: 0.302000\n",
      "(Epoch 22 / 25) train acc: 0.978000; val_acc: 0.302000\n",
      "(Epoch 23 / 25) train acc: 0.976000; val_acc: 0.289000\n",
      "(Epoch 24 / 25) train acc: 0.986000; val_acc: 0.285000\n",
      "(Epoch 25 / 25) train acc: 0.978000; val_acc: 0.311000\n",
      "(Iteration 1 / 125) loss: 2.302263\n",
      "(Epoch 0 / 25) train acc: 0.154000; val_acc: 0.145000\n",
      "(Epoch 1 / 25) train acc: 0.190000; val_acc: 0.188000\n",
      "(Epoch 2 / 25) train acc: 0.212000; val_acc: 0.185000\n",
      "(Epoch 3 / 25) train acc: 0.258000; val_acc: 0.214000\n",
      "(Epoch 4 / 25) train acc: 0.286000; val_acc: 0.219000\n",
      "(Epoch 5 / 25) train acc: 0.248000; val_acc: 0.190000\n",
      "(Epoch 6 / 25) train acc: 0.288000; val_acc: 0.235000\n",
      "(Epoch 7 / 25) train acc: 0.294000; val_acc: 0.249000\n",
      "(Epoch 8 / 25) train acc: 0.310000; val_acc: 0.261000\n",
      "(Epoch 9 / 25) train acc: 0.338000; val_acc: 0.264000\n",
      "(Epoch 10 / 25) train acc: 0.354000; val_acc: 0.280000\n",
      "(Epoch 11 / 25) train acc: 0.360000; val_acc: 0.278000\n",
      "(Epoch 12 / 25) train acc: 0.392000; val_acc: 0.257000\n",
      "(Epoch 13 / 25) train acc: 0.380000; val_acc: 0.271000\n",
      "(Epoch 14 / 25) train acc: 0.402000; val_acc: 0.278000\n",
      "(Epoch 15 / 25) train acc: 0.436000; val_acc: 0.286000\n",
      "(Epoch 16 / 25) train acc: 0.486000; val_acc: 0.281000\n",
      "(Epoch 17 / 25) train acc: 0.496000; val_acc: 0.292000\n",
      "(Epoch 18 / 25) train acc: 0.502000; val_acc: 0.319000\n",
      "(Epoch 19 / 25) train acc: 0.504000; val_acc: 0.293000\n",
      "(Epoch 20 / 25) train acc: 0.518000; val_acc: 0.299000\n",
      "(Iteration 101 / 125) loss: 1.465581\n",
      "(Epoch 21 / 25) train acc: 0.556000; val_acc: 0.318000\n",
      "(Epoch 22 / 25) train acc: 0.576000; val_acc: 0.316000\n",
      "(Epoch 23 / 25) train acc: 0.626000; val_acc: 0.324000\n",
      "(Epoch 24 / 25) train acc: 0.622000; val_acc: 0.304000\n",
      "(Epoch 25 / 25) train acc: 0.650000; val_acc: 0.309000\n"
     ]
    }
   ],
   "source": [
    "# Train two identical nets, one with dropout and one without\n",
    "\n",
    "num_train = 500\n",
    "small_data = {\n",
    "  'X_train': data['X_train'][:num_train],\n",
    "  'y_train': data['y_train'][:num_train],\n",
    "  'X_val': data['X_val'],\n",
    "  'y_val': data['y_val'],\n",
    "}\n",
    "\n",
    "solvers = {}\n",
    "dropout_choices = [0, 0.6]\n",
    "for dropout in dropout_choices:\n",
    "  model = FullyConnectedNet([100, 100, 100], dropout=dropout)\n",
    "\n",
    "  solver = Solver(model, small_data,\n",
    "                  num_epochs=25, batch_size=100,\n",
    "                  update_rule='adam',\n",
    "                  optim_config={\n",
    "                    'learning_rate': 5e-4,\n",
    "                  },\n",
    "                  verbose=True, print_every=100)\n",
    "  solver.train()\n",
    "  solvers[dropout] = solver"
   ]
  },
  {
   "cell_type": "code",
   "execution_count": null,
   "metadata": {},
   "outputs": [],
   "source": [
    "# Plot train and validation accuracies of the two models\n",
    "\n",
    "train_accs = []\n",
    "val_accs = []\n",
    "for dropout in dropout_choices:\n",
    "  solver = solvers[dropout]\n",
    "  train_accs.append(solver.train_acc_history[-1])\n",
    "  val_accs.append(solver.val_acc_history[-1])\n",
    "\n",
    "plt.subplot(3, 1, 1)\n",
    "for dropout in dropout_choices:\n",
    "  plt.plot(solvers[dropout].train_acc_history, 'o', label='%.2f dropout' % dropout)\n",
    "plt.title('Train accuracy')\n",
    "plt.xlabel('Epoch')\n",
    "plt.ylabel('Accuracy')\n",
    "plt.legend(ncol=2, loc='lower right')\n",
    "  \n",
    "plt.subplot(3, 1, 2)\n",
    "for dropout in dropout_choices:\n",
    "  plt.plot(solvers[dropout].val_acc_history, 'o', label='%.2f dropout' % dropout)\n",
    "plt.title('Val accuracy')\n",
    "plt.xlabel('Epoch')\n",
    "plt.ylabel('Accuracy')\n",
    "plt.legend(ncol=2, loc='lower right')\n",
    "\n",
    "plt.gcf().set_size_inches(15, 15)\n",
    "plt.show()"
   ]
  },
  {
   "cell_type": "markdown",
   "metadata": {},
   "source": [
    "## Question\n",
    "\n",
    "Based off the results of this experiment, is dropout performing regularization?  Explain your answer."
   ]
  },
  {
   "cell_type": "markdown",
   "metadata": {},
   "source": [
    "## Answer:\n",
    "Yes. Dropout has lower training accuracy but better validaton accuracy which means it's preventing overfitting. Therefore, dropout is performing regularization."
   ]
  },
  {
   "cell_type": "markdown",
   "metadata": {},
   "source": [
    "## Final part of the assignment\n",
    "\n",
    "Get over 55% validation accuracy on CIFAR-10 by using the layers you have implemented.  You will be graded according to the following equation:\n",
    "\n",
    "min(floor((X - 32%)) / 28%, 1) \n",
    "where if you get 60% or higher validation accuracy, you get full points."
   ]
  },
  {
   "cell_type": "code",
   "execution_count": 20,
   "metadata": {
    "scrolled": false
   },
   "outputs": [
    {
     "name": "stdout",
     "output_type": "stream",
     "text": [
      "(Iteration 1 / 29400) loss: 3.302598\n",
      "(Epoch 0 / 30) train acc: 0.161000; val_acc: 0.183000\n",
      "(Epoch 1 / 30) train acc: 0.357000; val_acc: 0.360000\n",
      "(Epoch 2 / 30) train acc: 0.339000; val_acc: 0.390000\n",
      "(Epoch 3 / 30) train acc: 0.408000; val_acc: 0.393000\n",
      "(Epoch 4 / 30) train acc: 0.383000; val_acc: 0.409000\n",
      "(Epoch 5 / 30) train acc: 0.416000; val_acc: 0.405000\n",
      "(Epoch 6 / 30) train acc: 0.420000; val_acc: 0.429000\n",
      "(Epoch 7 / 30) train acc: 0.478000; val_acc: 0.426000\n",
      "(Epoch 8 / 30) train acc: 0.433000; val_acc: 0.420000\n",
      "(Epoch 9 / 30) train acc: 0.433000; val_acc: 0.453000\n",
      "(Epoch 10 / 30) train acc: 0.474000; val_acc: 0.463000\n",
      "(Epoch 11 / 30) train acc: 0.471000; val_acc: 0.457000\n",
      "(Epoch 12 / 30) train acc: 0.465000; val_acc: 0.470000\n",
      "(Epoch 13 / 30) train acc: 0.511000; val_acc: 0.489000\n",
      "(Epoch 14 / 30) train acc: 0.496000; val_acc: 0.485000\n",
      "(Epoch 15 / 30) train acc: 0.477000; val_acc: 0.495000\n",
      "(Epoch 16 / 30) train acc: 0.516000; val_acc: 0.509000\n",
      "(Epoch 17 / 30) train acc: 0.508000; val_acc: 0.493000\n",
      "(Epoch 18 / 30) train acc: 0.553000; val_acc: 0.518000\n",
      "(Epoch 19 / 30) train acc: 0.517000; val_acc: 0.515000\n",
      "(Epoch 20 / 30) train acc: 0.573000; val_acc: 0.521000\n",
      "(Epoch 21 / 30) train acc: 0.541000; val_acc: 0.526000\n",
      "(Epoch 22 / 30) train acc: 0.579000; val_acc: 0.546000\n",
      "(Epoch 23 / 30) train acc: 0.562000; val_acc: 0.542000\n",
      "(Epoch 24 / 30) train acc: 0.608000; val_acc: 0.518000\n",
      "(Epoch 25 / 30) train acc: 0.552000; val_acc: 0.558000\n",
      "(Epoch 26 / 30) train acc: 0.615000; val_acc: 0.544000\n",
      "(Epoch 27 / 30) train acc: 0.608000; val_acc: 0.544000\n",
      "(Epoch 28 / 30) train acc: 0.623000; val_acc: 0.546000\n",
      "(Epoch 29 / 30) train acc: 0.627000; val_acc: 0.555000\n",
      "(Epoch 30 / 30) train acc: 0.651000; val_acc: 0.566000\n"
     ]
    }
   ],
   "source": [
    "# ================================================================ #\n",
    "# YOUR CODE HERE:\n",
    "#   Implement a FC-net that achieves at least 55% validation accuracy\n",
    "#   on CIFAR-10.\n",
    "# ================================================================ #\n",
    "dropout = 0.7\n",
    "# weight_scale = 0.01\n",
    "reg = 0.005\n",
    "lr = 1e-3\n",
    "model = FullyConnectedNet([1024, 512, 512], weight_scale = weight_scale,\n",
    "                            use_batchnorm=True,dropout=dropout,reg=reg)\n",
    "solver = Solver(model, data,\n",
    "                num_epochs=50,\n",
    "                batch_size=50,\n",
    "                update_rule='adam', lr_decay=0.92,\n",
    "                optim_config={'learning_rate': lr},\n",
    "                verbose=True, print_every=1e6)\n",
    "solver.train()\n",
    "\n",
    "# ================================================================ #\n",
    "# END YOUR CODE HERE\n",
    "# ================================================================ #"
   ]
  }
 ],
 "metadata": {
  "kernelspec": {
   "display_name": "Python 3",
   "language": "python",
   "name": "python3"
  },
  "language_info": {
   "codemirror_mode": {
    "name": "ipython",
    "version": 3
   },
   "file_extension": ".py",
   "mimetype": "text/x-python",
   "name": "python",
   "nbconvert_exporter": "python",
   "pygments_lexer": "ipython3",
   "version": "3.8.5-final"
  }
 },
 "nbformat": 4,
 "nbformat_minor": 2
}